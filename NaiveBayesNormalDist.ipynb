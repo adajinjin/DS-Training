{
 "cells": [
  {
   "cell_type": "code",
   "execution_count": 2,
   "metadata": {},
   "outputs": [],
   "source": [
    "import csv\n",
    "import random\n",
    "import copy\n",
    "import pandas as pd\n",
    "import numpy as np\n",
    "import math\n",
    "from sklearn.cross_validation import train_test_split\n",
    "# To model the Gaussian Navie Bayes classifier\n",
    "from sklearn.naive_bayes import GaussianNB\n",
    "# To calculate the accuracy score of the model\n",
    "from sklearn.metrics import accuracy_score"
   ]
  },
  {
   "cell_type": "code",
   "execution_count": 3,
   "metadata": {},
   "outputs": [
    {
     "data": {
      "text/plain": [
       "u'/Users/jiny/Documents/DS Training'"
      ]
     },
     "execution_count": 3,
     "metadata": {},
     "output_type": "execute_result"
    }
   ],
   "source": [
    "pwd"
   ]
  },
  {
   "cell_type": "code",
   "execution_count": 3,
   "metadata": {
    "collapsed": true
   },
   "outputs": [],
   "source": [
    "filename = 'pima-indians-diabetes.csv'\n",
    "data = pd.read_csv(filename,header = None, delimiter=' *, *', engine='python')"
   ]
  },
  {
   "cell_type": "code",
   "execution_count": 4,
   "metadata": {
    "collapsed": true
   },
   "outputs": [],
   "source": [
    "data.columns = ['TPreganency', 'PGC', 'DBP', 'TSFT','SI','BMI','DPF','Age','Result']"
   ]
  },
  {
   "cell_type": "code",
   "execution_count": 19,
   "metadata": {},
   "outputs": [
    {
     "name": "stdout",
     "output_type": "stream",
     "text": [
      "   TPreganency       PGC       DBP      TSFT        SI       BMI       DPF  \\\n",
      "0     1.000000  0.129459  0.141282 -0.081672 -0.073535  0.017683 -0.033523   \n",
      "1     0.129459  1.000000  0.152590  0.057328  0.331357  0.221071  0.137337   \n",
      "2     0.141282  0.152590  1.000000  0.207371  0.088933  0.281805  0.041265   \n",
      "3    -0.081672  0.057328  0.207371  1.000000  0.436783  0.392573  0.183928   \n",
      "4    -0.073535  0.331357  0.088933  0.436783  1.000000  0.197859  0.185071   \n",
      "5     0.017683  0.221071  0.281805  0.392573  0.197859  1.000000  0.140647   \n",
      "6    -0.033523  0.137337  0.041265  0.183928  0.185071  0.140647  1.000000   \n",
      "7     0.544341  0.263514  0.239528 -0.113970 -0.042163  0.036242  0.033561   \n",
      "8     0.221898  0.466581  0.065068  0.074752  0.130548  0.292695  0.173844   \n",
      "\n",
      "        Age    Result  \n",
      "0  0.544341  0.221898  \n",
      "1  0.263514  0.466581  \n",
      "2  0.239528  0.065068  \n",
      "3 -0.113970  0.074752  \n",
      "4 -0.042163  0.130548  \n",
      "5  0.036242  0.292695  \n",
      "6  0.033561  0.173844  \n",
      "7  1.000000  0.238356  \n",
      "8  0.238356  1.000000  \n"
     ]
    }
   ],
   "source": [
    "C = pd.DataFrame(np.corrcoef(data, rowvar=0))\n",
    "C.columns = data.columns\n",
    "print(C)\n",
    "# np.corrcoef(data,rowvar=0)\n",
    "\n",
    "# data.corrcoef()"
   ]
  },
  {
   "cell_type": "code",
   "execution_count": 9,
   "metadata": {},
   "outputs": [
    {
     "data": {
      "text/html": [
       "<div>\n",
       "<style>\n",
       "    .dataframe thead tr:only-child th {\n",
       "        text-align: right;\n",
       "    }\n",
       "\n",
       "    .dataframe thead th {\n",
       "        text-align: left;\n",
       "    }\n",
       "\n",
       "    .dataframe tbody tr th {\n",
       "        vertical-align: top;\n",
       "    }\n",
       "</style>\n",
       "<table border=\"1\" class=\"dataframe\">\n",
       "  <thead>\n",
       "    <tr style=\"text-align: right;\">\n",
       "      <th></th>\n",
       "      <th>TPreganency</th>\n",
       "      <th>PGC</th>\n",
       "      <th>DBP</th>\n",
       "      <th>TSFT</th>\n",
       "      <th>SI</th>\n",
       "      <th>BMI</th>\n",
       "      <th>DPF</th>\n",
       "      <th>Age</th>\n",
       "      <th>Result</th>\n",
       "    </tr>\n",
       "  </thead>\n",
       "  <tbody>\n",
       "    <tr>\n",
       "      <th>0</th>\n",
       "      <td>6</td>\n",
       "      <td>148</td>\n",
       "      <td>72</td>\n",
       "      <td>35</td>\n",
       "      <td>0</td>\n",
       "      <td>33.6</td>\n",
       "      <td>0.627</td>\n",
       "      <td>50</td>\n",
       "      <td>1</td>\n",
       "    </tr>\n",
       "    <tr>\n",
       "      <th>1</th>\n",
       "      <td>1</td>\n",
       "      <td>85</td>\n",
       "      <td>66</td>\n",
       "      <td>29</td>\n",
       "      <td>0</td>\n",
       "      <td>26.6</td>\n",
       "      <td>0.351</td>\n",
       "      <td>31</td>\n",
       "      <td>0</td>\n",
       "    </tr>\n",
       "    <tr>\n",
       "      <th>2</th>\n",
       "      <td>8</td>\n",
       "      <td>183</td>\n",
       "      <td>64</td>\n",
       "      <td>0</td>\n",
       "      <td>0</td>\n",
       "      <td>23.3</td>\n",
       "      <td>0.672</td>\n",
       "      <td>32</td>\n",
       "      <td>1</td>\n",
       "    </tr>\n",
       "    <tr>\n",
       "      <th>3</th>\n",
       "      <td>1</td>\n",
       "      <td>89</td>\n",
       "      <td>66</td>\n",
       "      <td>23</td>\n",
       "      <td>94</td>\n",
       "      <td>28.1</td>\n",
       "      <td>0.167</td>\n",
       "      <td>21</td>\n",
       "      <td>0</td>\n",
       "    </tr>\n",
       "    <tr>\n",
       "      <th>4</th>\n",
       "      <td>0</td>\n",
       "      <td>137</td>\n",
       "      <td>40</td>\n",
       "      <td>35</td>\n",
       "      <td>168</td>\n",
       "      <td>43.1</td>\n",
       "      <td>2.288</td>\n",
       "      <td>33</td>\n",
       "      <td>1</td>\n",
       "    </tr>\n",
       "  </tbody>\n",
       "</table>\n",
       "</div>"
      ],
      "text/plain": [
       "   TPreganency  PGC  DBP  TSFT   SI   BMI    DPF  Age  Result\n",
       "0            6  148   72    35    0  33.6  0.627   50       1\n",
       "1            1   85   66    29    0  26.6  0.351   31       0\n",
       "2            8  183   64     0    0  23.3  0.672   32       1\n",
       "3            1   89   66    23   94  28.1  0.167   21       0\n",
       "4            0  137   40    35  168  43.1  2.288   33       1"
      ]
     },
     "execution_count": 9,
     "metadata": {},
     "output_type": "execute_result"
    }
   ],
   "source": [
    "randomdata.head()\n",
    "#randomdata.describe()\n",
    "#randomdata.Result.shape"
   ]
  },
  {
   "cell_type": "code",
   "execution_count": 10,
   "metadata": {},
   "outputs": [
    {
     "data": {
      "text/plain": [
       "9"
      ]
     },
     "execution_count": 10,
     "metadata": {},
     "output_type": "execute_result"
    }
   ],
   "source": [
    "len(randomdata.columns)"
   ]
  },
  {
   "cell_type": "code",
   "execution_count": 11,
   "metadata": {
    "collapsed": true
   },
   "outputs": [],
   "source": [
    "Rawdata = randomdata.values[:,:8]\n",
    "Result = randomdata.values[:,8]"
   ]
  },
  {
   "cell_type": "code",
   "execution_count": 29,
   "metadata": {
    "collapsed": true
   },
   "outputs": [],
   "source": [
    "X_train, X_test, y_train, y_test = train_test_split(\n",
    "...     Rawdata, Result, test_size=0.4, random_state=0)"
   ]
  },
  {
   "cell_type": "code",
   "execution_count": 30,
   "metadata": {},
   "outputs": [
    {
     "data": {
      "text/plain": [
       "0.75"
      ]
     },
     "execution_count": 30,
     "metadata": {},
     "output_type": "execute_result"
    }
   ],
   "source": [
    "#Using GaussianNB to preduct:\n",
    "clf = GaussianNB()\n",
    "clf.fit(X_train, y_train)\n",
    "target_pred = clf.predict(X_test)\n",
    "accuracy_score(y_test, target_pred, normalize = True)"
   ]
  },
  {
   "cell_type": "code",
   "execution_count": 13,
   "metadata": {},
   "outputs": [
    {
     "name": "stdout",
     "output_type": "stream",
     "text": [
      "The total size of result in training is 460, in which there are 165 ones and 295 zeros.\n"
     ]
    }
   ],
   "source": [
    "#Using my own method to predict:\n",
    "#prior probability\n",
    "trainingsize = len(y_train)\n",
    "positive = y_train == 1\n",
    "negative = y_train == 0\n",
    "print('The total size of result in training is {0}, in which there are {1} ones and {2} zeros.'.format(len(y_train),\n",
    " len(y_train[positive]), len(y_train[negative]))\n",
    " )\n",
    "priorP = len(y_train[positive])*1.0/trainingsize\n",
    "priorN = len(y_train[negative])*1.0/trainingsize\n"
   ]
  },
  {
   "cell_type": "code",
   "execution_count": 14,
   "metadata": {
    "collapsed": true
   },
   "outputs": [],
   "source": [
    "X_train_p = X_train[positive]\n",
    "X_train_n = X_train[negative]\n",
    "NormalDist_p = np.stack((X_train_p.mean(axis = 0),\n",
    "X_train_p.var(axis = 0)))\n",
    "NormalDist_n = np.stack((X_train_n.mean(axis = 0),\n",
    "X_train_n.var(axis = 0)))"
   ]
  },
  {
   "cell_type": "code",
   "execution_count": 15,
   "metadata": {
    "collapsed": true
   },
   "outputs": [],
   "source": [
    "result_p = priorP*np.prod(np.exp(-np.square(X_train - NormalDist_p[0])/2/NormalDist_p[1])/np.sqrt(2*math.pi*NormalDist_p[1]),axis = 1)\n",
    "result_n = priorN*np.prod(np.exp(-np.square(X_train - NormalDist_n[0])/2/NormalDist_n[1])/np.sqrt(2*math.pi*NormalDist_n[1]),axis = 1)"
   ]
  },
  {
   "cell_type": "code",
   "execution_count": 16,
   "metadata": {
    "collapsed": true
   },
   "outputs": [],
   "source": [
    "y_trainv = np.zeros(len(y_train))\n",
    "y_trainv[result_p > result_n] = 1"
   ]
  },
  {
   "cell_type": "code",
   "execution_count": 17,
   "metadata": {
    "collapsed": true
   },
   "outputs": [],
   "source": [
    "acc_train = len(y_train[y_trainv == y_train])*1.0/len(y_train)"
   ]
  },
  {
   "cell_type": "code",
   "execution_count": 18,
   "metadata": {
    "collapsed": true
   },
   "outputs": [],
   "source": [
    "test_p = priorP*np.prod(np.exp(-np.square(X_test - NormalDist_p[0])/2/NormalDist_p[1])/np.sqrt(2*math.pi*NormalDist_p[1]),axis = 1)\n",
    "test_n = priorN*np.prod(np.exp(-np.square(X_test - NormalDist_n[0])/2/NormalDist_n[1])/np.sqrt(2*math.pi*NormalDist_n[1]),axis = 1)"
   ]
  },
  {
   "cell_type": "code",
   "execution_count": 19,
   "metadata": {
    "collapsed": true
   },
   "outputs": [],
   "source": [
    "y_testv = np.zeros(len(y_test))\n",
    "y_testv[test_p > test_n] = 1\n",
    "acc_test = len(y_test[y_testv == y_test])*1.0/len(y_test)"
   ]
  },
  {
   "cell_type": "code",
   "execution_count": 21,
   "metadata": {},
   "outputs": [
    {
     "data": {
      "text/plain": [
       "0.7760869565217391"
      ]
     },
     "execution_count": 21,
     "metadata": {},
     "output_type": "execute_result"
    }
   ],
   "source": [
    "acc_test\n",
    "acc_train"
   ]
  },
  {
   "cell_type": "code",
   "execution_count": null,
   "metadata": {
    "collapsed": true
   },
   "outputs": [],
   "source": []
  }
 ],
 "metadata": {
  "kernelspec": {
   "display_name": "Python 2",
   "language": "python",
   "name": "python2"
  },
  "language_info": {
   "codemirror_mode": {
    "name": "ipython",
    "version": 2
   },
   "file_extension": ".py",
   "mimetype": "text/x-python",
   "name": "python",
   "nbconvert_exporter": "python",
   "pygments_lexer": "ipython2",
   "version": "2.7.13"
  }
 },
 "nbformat": 4,
 "nbformat_minor": 2
}
